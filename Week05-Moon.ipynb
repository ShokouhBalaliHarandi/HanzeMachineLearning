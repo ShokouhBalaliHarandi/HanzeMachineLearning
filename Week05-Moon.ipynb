{
 "cells": [
  {
   "cell_type": "markdown",
   "metadata": {},
   "source": [
    "### Project description\n",
    "\n",
    "The aim of this project is creating a SVC (Support Vector Classifier) and configure it with different kernels to separate the moon-dataset, correctly."
   ]
  },
  {
   "cell_type": "code",
   "execution_count": null,
   "metadata": {},
   "outputs": [],
   "source": [
    "import numpy as np\n",
    "import matplotlib.pyplot as plt\n",
    "from sklearn.datasets import make_moons\n",
    "from sklearn.svm import SVC"
   ]
  },
  {
   "attachments": {},
   "cell_type": "markdown",
   "metadata": {},
   "source": [
    "#### make data\n",
    "\n",
    "In the first step a synthetic moon dataset with 200 samples is generated (make_moons). This dataset simulates two interleaving half-moons, making it a bit challenging for linear classifiers."
   ]
  },
  {
   "cell_type": "code",
   "execution_count": null,
   "metadata": {},
   "outputs": [],
   "source": [
    "# Generate moon dataset\n",
    "X, y = make_moons(n_samples=200, noise=0.1, random_state=42)"
   ]
  },
  {
   "cell_type": "markdown",
   "metadata": {},
   "source": [
    "The SVCGenerator has methods to fit the model, make predictions, and plot support vectors to experiment with different kernels and parameters."
   ]
  },
  {
   "cell_type": "code",
   "execution_count": null,
   "metadata": {},
   "outputs": [],
   "source": [
    "class SVCGenerator:\n",
    "    def __init__(self, kernel='rbf', C=1.0, gamma='scale'):\n",
    "        self.kernel = kernel\n",
    "        self.C = C\n",
    "        self.gamma = gamma\n",
    "        self.model = None\n",
    "\n",
    "    def fit(self, X, y):\n",
    "        self.model = SVC(kernel=self.kernel, C=self.C, gamma=self.gamma)\n",
    "        self.model.fit(X, y)\n",
    "\n",
    "    def predict(self, X):\n",
    "        return self.model.predict(X)\n",
    "\n",
    "    def plot_support_vectors(self, X, y):\n",
    "        sv_indices = self.model.support_\n",
    "        plt.scatter(X[:, 0], X[:, 1], c=y, cmap=plt.cm.Paired)\n",
    "        plt.scatter(X[sv_indices, 0], X[sv_indices, 1], facecolors='none', edgecolors='k', s=100)\n",
    "        plt.xlim(X[:, 0].min() - 0.5, X[:, 0].max() + 0.5)\n",
    "        plt.ylim(X[:, 1].min() - 0.5, X[:, 1].max() + 0.5)\n",
    "        plt.xlabel('X1')\n",
    "        plt.ylabel('X2')\n",
    "        plt.title('Support Vectors')"
   ]
  },
  {
   "cell_type": "markdown",
   "metadata": {},
   "source": [
    "For different kernel such as Radial Basis Function (RBF), linear, and polynomial kernels, different instances are created."
   ]
  },
  {
   "cell_type": "code",
   "execution_count": null,
   "metadata": {},
   "outputs": [],
   "source": [
    "# Creating an instance with different configurations\n",
    "svc_rbf = SVCGenerator(kernel='rbf', C=1.0, gamma='scale') #RBF kernel\n",
    "svc_linear = SVCGenerator(kernel='linear', C=1.0) #linear kernel\n",
    "svc_poly = SVCGenerator(kernel='poly', C=1.0, gamma=3.0) #polynomial kernel"
   ]
  },
  {
   "cell_type": "markdown",
   "metadata": {},
   "source": [
    "### Fitting Models\n",
    "This step's aim is finding the decision boundary that best separates the two classes while maximizing the margin between support vectors."
   ]
  },
  {
   "cell_type": "code",
   "execution_count": null,
   "metadata": {},
   "outputs": [],
   "source": [
    "svc_rbf.fit(X, y)\n",
    "svc_linear.fit(X, y)\n",
    "svc_poly.fit(X, y)"
   ]
  },
  {
   "cell_type": "markdown",
   "metadata": {},
   "source": [
    "#### Visualization models\n",
    "\n",
    "A mesh grid is created over the feature space to visualize the decision boundaries and regions.  This grid allows to visualize how well each classifier separates the data.\n",
    "\n",
    "In the following code, the grid used a function called np.meshgrid. It helps to make a bunch of dots that are spaced apart by h set as 0.02. The 0.02 amount seems a good balance. If we picked a smaller number, the dots would be closer together, and we could see more details in the picture, but it would take longer for the computer to figure out.If we went with a bigger number, the dots would be farther apart, so the picture would have fewer details, but the computer would work faster."
   ]
  },
  {
   "cell_type": "code",
   "execution_count": null,
   "metadata": {},
   "outputs": [],
   "source": [
    "# Create a mesh grid for visualization\n",
    "h = 0.02\n",
    "x_min, x_max = X[:, 0].min() - 0.5, X[:, 0].max() + 0.5\n",
    "y_min, y_max = X[:, 1].min() - 0.5, X[:, 1].max() + 0.5\n",
    "xx, yy = np.meshgrid(np.arange(x_min, x_max, h), np.arange(y_min, y_max, h))"
   ]
  },
  {
   "cell_type": "markdown",
   "metadata": {},
   "source": [
    "#### Predictions\n",
    "In this step, the trained models are used to make predictions on the mesh grid points."
   ]
  },
  {
   "cell_type": "code",
   "execution_count": null,
   "metadata": {},
   "outputs": [],
   "source": [
    "#Getting predictions for each model on the mesh grid\n",
    "Z_rbf = svc_rbf.predict(np.c_[xx.ravel(), yy.ravel()])\n",
    "Z_linear = svc_linear.predict(np.c_[xx.ravel(), yy.ravel()])\n",
    "Z_poly = svc_poly.predict(np.c_[xx.ravel(), yy.ravel()])"
   ]
  },
  {
   "cell_type": "markdown",
   "metadata": {},
   "source": [
    "#### Reshaping\n",
    "\n",
    "The predictions are reshaped to match the shape of the mesh grid."
   ]
  },
  {
   "cell_type": "code",
   "execution_count": null,
   "metadata": {},
   "outputs": [],
   "source": [
    "Z_rbf = Z_rbf.reshape(xx.shape)\n",
    "Z_linear = Z_linear.reshape(xx.shape)\n",
    "Z_poly = Z_poly.reshape(xx.shape)"
   ]
  },
  {
   "cell_type": "markdown",
   "metadata": {},
   "source": [
    "#### Visualization:\n",
    "\n",
    "To visualize the results for each kernel configuration these methods are used:\n",
    "\n",
    "plt.contourf: plot decision boundaries as filled contours\n",
    "\n",
    "plot_support_vectors: plot the support vectors"
   ]
  },
  {
   "cell_type": "code",
   "execution_count": null,
   "metadata": {},
   "outputs": [],
   "source": [
    "# Plot the moon dataset and decision boundaries with support vectors\n",
    "plt.figure(figsize=(12, 4))\n",
    "plt.subplot(131)\n",
    "plt.contourf(xx, yy, Z_rbf, cmap=plt.cm.Paired, alpha=0.8)\n",
    "svc_rbf.plot_support_vectors(X, y)\n",
    "plt.title('SVC with RBF Kernel')\n",
    "\n",
    "plt.subplot(132)\n",
    "plt.contourf(xx, yy, Z_linear, cmap=plt.cm.Paired, alpha=0.8)\n",
    "svc_linear.plot_support_vectors(X, y)\n",
    "plt.title('SVC with Linear Kernel')\n",
    "\n",
    "plt.subplot(133)\n",
    "plt.contourf(xx, yy, Z_poly, cmap=plt.cm.Paired, alpha=0.8)\n",
    "svc_poly.plot_support_vectors(X, y)\n",
    "plt.title('SVC with Polynomial Kernel')\n",
    "\n",
    "plt.tight_layout()\n",
    "plt.show()"
   ]
  },
  {
   "cell_type": "markdown",
   "metadata": {},
   "source": [
    "Plots show the moon dataset, decision boundaries, and support vectors for each kernel configuration. This allows to compare how well each kernel performs in separating the moon-shaped clusters.\n",
    "\n",
    "RBF Kernel: As the RBF kernel is a for non-linear problems the decision boundary captures the non-linear pattern of the moon dataset. The support vectors concentrate around the areas where the classes are closer and overlapping.\n",
    "\n",
    "Linear Kernel: The linear kernel is for linearly separable datasets. As the figure shows, the decision boundary is a straight line and Support vectors almost located near the boundary.\n",
    "\n",
    "Polynomial Kernel: The polynomial kernel captures moderately non-linear relationships. As shown in the figure, this kernel works like RBF but in the so moderately ways and smoothly. The decision boundary are curved to accommodate the moon shapes."
   ]
  }
 ],
 "metadata": {
  "kernelspec": {
   "display_name": "base",
   "language": "python",
   "name": "python3"
  },
  "language_info": {
   "codemirror_mode": {
    "name": "ipython",
    "version": 3
   },
   "file_extension": ".py",
   "mimetype": "text/x-python",
   "name": "python",
   "nbconvert_exporter": "python",
   "pygments_lexer": "ipython3",
   "version": "3.9.13"
  },
  "orig_nbformat": 4
 },
 "nbformat": 4,
 "nbformat_minor": 2
}
