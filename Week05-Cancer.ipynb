{
 "cells": [
  {
   "cell_type": "code",
   "execution_count": null,
   "metadata": {},
   "outputs": [],
   "source": [
    "import pandas as pd\n",
    "from sklearn.linear_model import LogisticRegression\n",
    "from sklearn.svm import SVC\n",
    "from sklearn.model_selection import cross_val_score\n",
    "from sklearn.model_selection import train_test_split\n",
    "from sklearn.metrics import classification_report, confusion_matrix, roc_auc_score, precision_recall_curve, auc\n",
    "import matplotlib.pyplot as plt\n",
    "from sklearn.preprocessing import LabelEncoder"
   ]
  },
  {
   "attachments": {},
   "cell_type": "markdown",
   "metadata": {},
   "source": [
    "#### loading data, exploratory analysis & preparing data"
   ]
  },
  {
   "cell_type": "code",
   "execution_count": null,
   "metadata": {},
   "outputs": [],
   "source": [
    "# Load the data from CSV file\n",
    "data = pd.read_csv(\"Data/breast-cancer.csv\")\n",
    "\n",
    "# Print the first few rows to inspect the data\n",
    "print(data.head(1))\n"
   ]
  },
  {
   "cell_type": "code",
   "execution_count": null,
   "metadata": {},
   "outputs": [],
   "source": [
    "#check data info\n",
    "print(data.shape)\n",
    "print(data.describe())\n",
    "print(data.dtypes)"
   ]
  },
  {
   "cell_type": "code",
   "execution_count": null,
   "metadata": {},
   "outputs": [],
   "source": [
    "#check data for null values\n",
    "print(data.isnull().sum())"
   ]
  },
  {
   "cell_type": "code",
   "execution_count": null,
   "metadata": {},
   "outputs": [],
   "source": [
    "#plot histogram of diagnosis (diagnoses is a dependet variable or target variable)\n",
    "import matplotlib.pyplot as plt\n",
    "\n",
    "plt.figure(figsize=(6, 4))\n",
    "data[\"diagnosis\"].value_counts().plot(kind=\"bar\")\n",
    "plt.xlabel(\"Diagnosis\")\n",
    "plt.ylabel(\"Count\")\n",
    "plt.title(\"Distribution of Diagnosis\")\n",
    "plt.show()"
   ]
  },
  {
   "cell_type": "code",
   "execution_count": null,
   "metadata": {},
   "outputs": [],
   "source": [
    "import seaborn as sns\n",
    "\n",
    "# Plot histograms of each feature\n",
    "sns.set(style=\"whitegrid\")\n",
    "plt.figure(figsize=(12, 10))\n",
    "for i, column in enumerate(data.columns[2:], 1):\n",
    "    plt.subplot(5, 6, i)\n",
    "    sns.histplot(data[column], kde=True)\n",
    "    plt.xlabel(column)\n",
    "plt.tight_layout()\n",
    "plt.show()"
   ]
  },
  {
   "cell_type": "code",
   "execution_count": null,
   "metadata": {},
   "outputs": [],
   "source": [
    "#plot relationships between features with diagnosis\n",
    "plt.figure(figsize=(12, 10))\n",
    "sns.pairplot(data, hue=\"diagnosis\", vars=data.columns[2:])\n",
    "plt.show()"
   ]
  },
  {
   "attachments": {},
   "cell_type": "markdown",
   "metadata": {},
   "source": [
    "#### preprocessing data"
   ]
  },
  {
   "cell_type": "code",
   "execution_count": null,
   "metadata": {},
   "outputs": [],
   "source": [
    "# heparating the features (X) and the target variable (y)\n",
    "X = data.drop(\"diagnosis\", axis=1)\n",
    "y = data[\"diagnosis\"]\n",
    "\n",
    "# handling missing values (replace them with mean)\n",
    "X = X.fillna(X.mean())\n",
    "\n",
    "#Scaling the features (standardization)\n",
    "from sklearn.preprocessing import StandardScaler\n",
    "scaler = StandardScaler()\n",
    "X = scaler.fit_transform(X)\n",
    "\n",
    "# Split the data into training and testing sets\n",
    "#Using sklearn's train_test_split\n",
    "from sklearn.model_selection import train_test_split\n",
    "X_train, X_test, y_train, y_test = train_test_split(X, y, test_size=0.2, random_state=42)"
   ]
  },
  {
   "attachments": {},
   "cell_type": "markdown",
   "metadata": {},
   "source": [
    "#### Modeling based on Logistic Regression and SVM models"
   ]
  },
  {
   "cell_type": "code",
   "execution_count": null,
   "metadata": {},
   "outputs": [],
   "source": [
    "# Define the models with different hyperparameter values\n",
    "logreg_model = LogisticRegression()\n",
    "svm_model = SVC()\n",
    "\n",
    "# Define the hyperparameter values to try for each model\n",
    "logreg_params = {'C': [0.1, 1, 10]}\n",
    "svm_params = {'C': [0.1, 1, 10], 'gamma': [0.1, 1, 10]}\n",
    "\n",
    "# Perform k-fold cross-validation for each model and hyperparameter combination\n",
    "k = 5  # Number of folds for cross-validation\n",
    "\n",
    "# Logistic Regression\n",
    "logreg_scores = []\n",
    "for param in logreg_params['C']:\n",
    "    logreg_model.C = param\n",
    "    scores = cross_val_score(logreg_model, X, y, cv=k)\n",
    "    logreg_scores.append(scores.mean())\n",
    "\n",
    "# SVM\n",
    "svm_scores = []\n",
    "for param_C in svm_params['C']:\n",
    "    for param_gamma in svm_params['gamma']:\n",
    "        svm_model.C = param_C\n",
    "        svm_model.gamma = param_gamma\n",
    "        scores = cross_val_score(svm_model, X, y, cv=k)\n",
    "        svm_scores.append(scores.mean())\n",
    "\n",
    "# Compare and select the best model based on cross-validation scores\n",
    "best_logreg_param = logreg_params['C'][logreg_scores.index(max(logreg_scores))]\n",
    "best_svm_param_C, best_svm_param_gamma = svm_params['C'][svm_scores.index(max(svm_scores)) // len(svm_params['gamma'])], \\\n",
    "                                        svm_params['gamma'][svm_scores.index(max(svm_scores)) % len(svm_params['gamma'])]\n",
    "\n",
    "# Print results ( the cross-validation scores and the best hyperparameter values)\n",
    "print(\"Logistic Regression cross-validation scores:\", logreg_scores)\n",
    "print(\"Best Logistic Regression hyperparameter (C) value:\", best_logreg_param)\n",
    "print(\"SVM cross-validation scores:\", svm_scores)\n",
    "print(\"Best SVM hyperparameter (C, gamma) values:\", best_svm_param_C, \",\", best_svm_param_gamma)"
   ]
  },
  {
   "cell_type": "code",
   "execution_count": null,
   "metadata": {},
   "outputs": [],
   "source": [
    "# Convert categorical labels to binary values\n",
    "label_encoder = LabelEncoder()\n",
    "y = label_encoder.fit_transform(y)\n",
    "\n",
    "# Split the data into training and testing sets\n",
    "X_train, X_test, y_train, y_test = train_test_split(X, y, test_size=0.2, random_state=42)\n",
    "\n",
    "# Creating and train the Logistic Regression model\n",
    "model = LogisticRegression()\n",
    "model.fit(X_train, y_train)\n",
    "\n",
    "# Making predictions on the testing set\n",
    "y_pred = model.predict(X_test)\n",
    "y_prob = model.predict_proba(X_test)[:, 1]  # Predicted probabilities for positive class"
   ]
  },
  {
   "cell_type": "code",
   "execution_count": null,
   "metadata": {},
   "outputs": [],
   "source": [
    "\n",
    "# Classification report\n",
    "print(\"Classification Report:\")\n",
    "print(classification_report(y_test, y_pred, target_names=label_encoder.classes_))\n",
    "\n",
    "# Confusion matrix\n",
    "print(\"Confusion Matrix\\n\")\n",
    "conf_matrix = confusion_matrix(y_test, y_pred)\n",
    "print(conf_matrix)\n",
    "\n",
    "# AUC ROC\n",
    "auc_roc = roc_auc_score(y_test, y_prob)\n",
    "print(\"AUC ROC:\", auc_roc)\n",
    "\n",
    "# Precision-Recall curve\n",
    "precision, recall, _ = precision_recall_curve(y_test, y_prob)\n",
    "pr_auc = auc(recall, precision)"
   ]
  },
  {
   "cell_type": "code",
   "execution_count": null,
   "metadata": {},
   "outputs": [],
   "source": [
    "# Plotting Precision-Recall curve\n",
    "plt.figure()\n",
    "plt.step(recall, precision, color='b', alpha=0.2, where='post')\n",
    "plt.fill_between(recall, precision, alpha=0.2, color='b', step='post')\n",
    "plt.xlabel('Recall')\n",
    "plt.ylabel('Precision')\n",
    "plt.ylim([0.0, 1.05])\n",
    "plt.xlim([0.0, 1.0])\n",
    "plt.title('Precision-Recall curve (AUC={:.2f})'.format(pr_auc))\n",
    "plt.show()"
   ]
  }
 ],
 "metadata": {
  "kernelspec": {
   "display_name": "base",
   "language": "python",
   "name": "python3"
  },
  "language_info": {
   "codemirror_mode": {
    "name": "ipython",
    "version": 3
   },
   "file_extension": ".py",
   "mimetype": "text/x-python",
   "name": "python",
   "nbconvert_exporter": "python",
   "pygments_lexer": "ipython3",
   "version": "3.9.13"
  },
  "orig_nbformat": 4
 },
 "nbformat": 4,
 "nbformat_minor": 2
}
