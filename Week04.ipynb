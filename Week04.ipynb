{
 "cells": [
  {
   "attachments": {},
   "cell_type": "markdown",
   "metadata": {},
   "source": [
    "### Project Description\n",
    "\n",
    "The aim of this assignmebt is predection of price of Groningen houses via a txt file involves the report of size and price of this area's house."
   ]
  },
  {
   "cell_type": "markdown",
   "metadata": {},
   "source": [
    "#### loading data\n",
    "\n",
    "To start, the data is loaded from the file \"housing-data.txt\" and create a scatter plot to visualize the relationship between the size and price of houses. \n",
    "It is notable that as data in comma sepration status, when I wanted to load them in dataframe, I changed the type of price and size to float."
   ]
  },
  {
   "cell_type": "code",
   "execution_count": null,
   "metadata": {},
   "outputs": [],
   "source": [
    "import matplotlib.pyplot as plt\n",
    "import pandas as pd\n",
    "import yaml\n",
    "\n",
    "# Load the data from the file\n",
    "configPath = 'config.yaml'\n",
    "\n",
    "# Read the yaml data from the file\n",
    "with open(configPath, 'r') as file:\n",
    "    configData = yaml.safe_load(file)\n",
    "\n",
    "data = []\n",
    "with open(configData[\"housing_data_path\"], 'r') as file:\n",
    "    next(file)  # Skip the first line (header)\n",
    "    for line in file:\n",
    "        size, price = line.strip().split(',')\n",
    "        data.append((float(size), float(price)))"
   ]
  },
  {
   "attachments": {},
   "cell_type": "markdown",
   "metadata": {},
   "source": [
    "#### visualize the relationship between the size and price"
   ]
  },
  {
   "cell_type": "code",
   "execution_count": null,
   "metadata": {},
   "outputs": [],
   "source": [
    "# Separate the data into sizes and prices\n",
    "sizes = [d[0] for d in data]\n",
    "prices = [d[1] for d in data]\n",
    "\n",
    "print(f'the amount of data: {len(data)}')\n",
    "\n",
    "# Create a scatter plot\n",
    "plt.scatter(sizes, prices)\n",
    "plt.xlabel('Size')\n",
    "plt.ylabel('Price')\n",
    "plt.title('Housing Prices in Groningen')\n",
    "plt.show()"
   ]
  },
  {
   "cell_type": "markdown",
   "metadata": {},
   "source": [
    "The 200 observation of data is plotted and it shows there is a strong releation between price and the size of house. because meanwhile the size is grown the price is get higher."
   ]
  },
  {
   "attachments": {},
   "cell_type": "markdown",
   "metadata": {},
   "source": [
    "#### compute_cost function\n",
    "\n",
    "In this step the function which can calculate the total cost of the data is written.\n",
    "For calling the function, first a column of 1 is added to the size matrix to account for the bias term in the hypothesis function."
   ]
  },
  {
   "cell_type": "code",
   "execution_count": null,
   "metadata": {},
   "outputs": [],
   "source": [
    "import numpy as np\n",
    "\n",
    "def compute_cost(X, y, theta):\n",
    "    m = len(y)  # Number of training examples\n",
    "    \n",
    "    # Computing the hypothesis function\n",
    "    h = np.dot(X, theta)\n",
    "    \n",
    "    # Computing the cost\n",
    "    cost = (1 / (2 * m)) * np.sum(np.square(h - y))\n",
    "    \n",
    "    return cost"
   ]
  },
  {
   "cell_type": "code",
   "execution_count": null,
   "metadata": {},
   "outputs": [],
   "source": [
    "#calling compute_cost based on housing data\n",
    "import numpy as np\n",
    "\n",
    "#use size as a factor and price as a depended value\n",
    "X = np.array(sizes).reshape(-1, 1)    \n",
    "y = np.array(prices).reshape(-1, 1)  \n",
    "theta = np.array([[0], [0]]) \n",
    "\n",
    "m = len(y)\n",
    "X = np.concatenate((np.ones((m, 1)), X), axis=1)\n",
    "\n",
    "cost = compute_cost(X, y, theta)\n",
    "\n",
    "print(f\"Total cost: {cost}\")"
   ]
  },
  {
   "cell_type": "markdown",
   "metadata": {},
   "source": [
    "The price is assumed as dependent variable (y) and the size is independ (X), based on these assumption the total cost equals by 17840.79"
   ]
  },
  {
   "attachments": {},
   "cell_type": "markdown",
   "metadata": {},
   "source": [
    "#### gradient_descent function\n",
    "\n",
    "This function performs gradient descent for a specified number of iterations and returns the optimized theta and the list of costs:"
   ]
  },
  {
   "cell_type": "code",
   "execution_count": null,
   "metadata": {},
   "outputs": [],
   "source": [
    "import numpy as np\n",
    "\n",
    "def gradient_descent(X, y, theta, alpha, num_iters):\n",
    "    m = len(y)  # Number of training examples\n",
    "    costs = []  # List to store costs at each iteration \n",
    "    \n",
    "    for _ in range(num_iters):\n",
    "        # Compute the hypothesis function\n",
    "        h = np.dot(X, theta)\n",
    "        \n",
    "        # Update theta using gradient descent\n",
    "        theta = theta - (alpha/m) * np.dot(X.T, (h - y))\n",
    "        \n",
    "        # Compute the cost and add it to the list\n",
    "        cost = compute_cost(X, y, theta)\n",
    "        costs.append(cost)\n",
    "    \n",
    "    return theta, costs"
   ]
  },
  {
   "cell_type": "code",
   "execution_count": null,
   "metadata": {},
   "outputs": [],
   "source": [
    "#calling gradient_descent function\n",
    "\n",
    "alpha = 0.01\n",
    "num_iters = 100\n",
    "optimized_theta, cost_history = gradient_descent(X, y, theta, alpha, num_iters)\n",
    "print(f'optimized_theta:\\n {optimized_theta},\\n cost_history:\\n {np.array(cost_history)}')"
   ]
  },
  {
   "attachments": {},
   "cell_type": "markdown",
   "metadata": {},
   "source": [
    "#### plot of the values of J(\\theta) "
   ]
  },
  {
   "cell_type": "code",
   "execution_count": null,
   "metadata": {},
   "outputs": [],
   "source": [
    "import matplotlib.pyplot as plt\n",
    "\n",
    "# Create a list of iteration numbers for x-axis\n",
    "iterations = range(1, len(cost_history) + 1)\n",
    "\n",
    "# Plot the cost values\n",
    "plt.plot(iterations, cost_history)\n",
    "plt.xlabel('Iteration')\n",
    "plt.ylabel('Cost J(theta)')\n",
    "plt.title('Cost vs. Iterations')\n",
    "plt.grid(True)\n",
    "plt.show()\n"
   ]
  },
  {
   "attachments": {},
   "cell_type": "markdown",
   "metadata": {},
   "source": [
    "the cost values increase as the iterations progress. This means the optimization algorithm is not converging properly. Therefore, we may need to revisit learning rate, number of iterations, or check for errors in the implementation.\n",
    "For the equal values in iteration progress, it might imply that the algorithm has reached a local minimum and cannot make further progress, or there might be instability in the convergence. So, as well, we can try adjusting the learning rate, increasing the number of iterations, or exploring different optimization techniques."
   ]
  }
 ],
 "metadata": {
  "kernelspec": {
   "display_name": "base",
   "language": "python",
   "name": "python3"
  },
  "language_info": {
   "codemirror_mode": {
    "name": "ipython",
    "version": 3
   },
   "file_extension": ".py",
   "mimetype": "text/x-python",
   "name": "python",
   "nbconvert_exporter": "python",
   "pygments_lexer": "ipython3",
   "version": "3.9.13"
  },
  "orig_nbformat": 4
 },
 "nbformat": 4,
 "nbformat_minor": 2
}
